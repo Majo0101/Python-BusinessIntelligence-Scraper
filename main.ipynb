{
 "cells": [
  {
   "cell_type": "code",
   "execution_count": 1,
   "metadata": {},
   "outputs": [],
   "source": [
    "import time\n",
    "import pandas as pd\n",
    "from scraper import Scrapper\n",
    "from dataclasses import dataclass"
   ]
  },
  {
   "cell_type": "code",
   "execution_count": 2,
   "metadata": {},
   "outputs": [],
   "source": [
    "@dataclass\n",
    "class Etf:\n",
    "    isin: str\n",
    "    ticker: str\n",
    "    name: str\n",
    "    shares: int"
   ]
  },
  {
   "cell_type": "code",
   "execution_count": 3,
   "metadata": {},
   "outputs": [],
   "source": [
    "etfs = [\n",
    "      Etf('IE000OJ5TQP4', 'NATO', 'HANetf Future of Defence UCITS ETF', 40),\n",
    "      Etf('IE00BFMXXD54', 'VUAA', 'Vanguard S&P 500 UCITS ETF', 30),\n",
    "      Etf('IE00BMC38736', 'SMH', 'VanEck Semiconductor UCITS ETF', 25),\n",
    "      Etf('IE000COQKPO9', 'ANAU', 'Invesco Nasdaq-100 ESG UCITS ETF', 20),\n",
    "      Etf('IE00B53L3W79', 'CSSX5E', 'iShares Core EURO STOXX 50 UCITS ETF', 15),\n",
    "      Etf('IE00BHZRQZ17', 'FLXI', 'Franklin FTSE India UCITS ETF', 10),\n",
    "      Etf('IE00B4L5Y983', 'SWDA', 'iShares Core MSCI World UCITS ETF', 5)\n",
    "]"
   ]
  },
  {
   "cell_type": "code",
   "execution_count": 4,
   "metadata": {},
   "outputs": [],
   "source": [
    "df_data = pd.DataFrame(columns=['Data'] + [etf.ticker for etf in etfs])\n",
    "df_holdings = pd.DataFrame(columns=['Holdings'] + [etf.ticker for etf in etfs])\n",
    "df_countries = pd.DataFrame(columns=['Countries'] + [etf.ticker for etf in etfs])\n",
    "df_sectors = pd.DataFrame(columns=['Sectors'] + [etf.ticker for etf in etfs])\n",
    "df_realTimePrice = pd.DataFrame(columns=['Prices'] + [etf.ticker for etf in etfs])"
   ]
  },
  {
   "cell_type": "code",
   "execution_count": 5,
   "metadata": {},
   "outputs": [
    {
     "name": "stdout",
     "output_type": "stream",
     "text": [
      "HANetf Future of Defence UCITS ETF | A3EB9T | IE000OJ5TQP4\n",
      "Cookie consent accepted.\n",
      "Clicked 6 times !\n",
      "Driver was closed !\n",
      "Vanguard S&P 500 UCITS ETF (USD) Accumulating | A2PFN2 | IE00BFMXXD54\n",
      "Cookie consent accepted.\n",
      "Clicked 6 times !\n",
      "Driver was closed !\n",
      "VanEck Semiconductor UCITS ETF | A2QC5J | IE00BMC38736\n",
      "Cookie consent accepted.\n",
      "Clicked 5 times !\n",
      "Driver was closed !\n",
      "Invesco Nasdaq-100 ESG UCITS ETF Acc | A3CZGT | IE000COQKPO9\n",
      "Cookie consent accepted.\n",
      "Clicked 6 times !\n",
      "Driver was closed !\n",
      "iShares Core EURO STOXX 50 UCITS ETF EUR (Acc) | A0YEDJ | IE00B53L3W79\n",
      "Cookie consent accepted.\n",
      "Clicked 7 times !\n",
      "Driver was closed !\n",
      "Franklin FTSE India UCITS ETF | A2PB5W | IE00BHZRQZ17\n",
      "Cookie consent accepted.\n",
      "Clicked 6 times !\n",
      "Driver was closed !\n",
      "iShares Core MSCI World UCITS ETF USD (Acc) | A0RPWH | IE00B4L5Y983\n",
      "Cookie consent accepted.\n",
      "Clicked 7 times !\n",
      "Driver was closed !\n"
     ]
    }
   ],
   "source": [
    "for etf in etfs:\n",
    "      scrap = Scrapper(etf.isin)\n",
    "      data = scrap.catch_data('Data', etf.ticker)\n",
    "      holdings = scrap.catch_holdings('Holdings', etf.ticker)\n",
    "      countries = scrap.catch_countries('Countries', etf.ticker)\n",
    "      sectors = scrap.catch_sectors('Sectors', etf.ticker)\n",
    "      prices = scrap.real_time_data('Prices', etf.ticker)\n",
    "      scrap.close()\n",
    "\n",
    "      df_data = pd.concat([df_data, pd.DataFrame(data)], ignore_index=True)\n",
    "      df_holdings = pd.concat([df_holdings, pd.DataFrame(holdings)], ignore_index=True)\n",
    "      df_countries = pd.concat([df_countries, pd.DataFrame(countries)], ignore_index=True)\n",
    "      df_sectors = pd.concat([df_sectors, pd.DataFrame(sectors)], ignore_index=True)\n",
    "      df_realTimePrice = pd.concat([df_realTimePrice, pd.DataFrame(prices)], ignore_index=True)\n",
    "\n",
    "del countries, data, holdings, prices, sectors, scrap"
   ]
  },
  {
   "cell_type": "code",
   "execution_count": 6,
   "metadata": {},
   "outputs": [],
   "source": [
    "def process_df(df, id_var, value_var='Data'):\n",
    "      return (\n",
    "            df.melt(id_vars=[id_var], var_name='Tickers', value_name=value_var)\n",
    "            .dropna(subset=[value_var])\n",
    "            .replace({r'\\.': ',', '%': ''}, regex=True)\n",
    "      )"
   ]
  },
  {
   "cell_type": "code",
   "execution_count": 7,
   "metadata": {},
   "outputs": [],
   "source": [
    "pbi_holdings = process_df(df_holdings, 'Holdings')\n",
    "pbi_sectors = process_df(df_sectors, 'Sectors')\n",
    "pbi_countries = process_df(df_countries, 'Countries')\n",
    "pbi_data = process_df(df_data, 'Data', 'Info')\n",
    "\n",
    "del df_holdings, df_sectors, df_countries, df_data"
   ]
  },
  {
   "cell_type": "code",
   "execution_count": 8,
   "metadata": {},
   "outputs": [],
   "source": [
    "df_realTimePrice.iloc[:, 1:] = df_realTimePrice.iloc[:, 1:].bfill(axis=1).ffill(axis=1)\n",
    "\n",
    "df_realTimePrice = df_realTimePrice.iloc[:, :2]\n",
    "df_realTimePrice.columns = ['Data', 'Tickers']\n",
    "\n",
    "df_realTimePrice[['Currency', 'Price', 'ChangeEur', 'ChangePercent']] = df_realTimePrice['Data'].str.extract(r'(\\w+)\\s([\\d\\.]+)\\s([\\+\\-]\\d+\\.\\d+)\\|([\\+\\-]\\d+\\.\\d+%)')\n",
    "df_realTimePrice = df_realTimePrice[['Tickers', 'Currency', 'Price', 'ChangeEur', 'ChangePercent']]\n",
    "\n",
    "for etf in etfs:\n",
    "      df_realTimePrice.loc[df_realTimePrice['Tickers'] == etf.ticker, 'Shares'] = etf.shares\n",
    "      df_realTimePrice.loc[df_realTimePrice['Tickers'] == etf.ticker, 'Name'] = etf.name\n",
    "\n",
    "del etf, etfs"
   ]
  },
  {
   "cell_type": "code",
   "execution_count": 9,
   "metadata": {},
   "outputs": [],
   "source": [
    "df_realTimePrice = df_realTimePrice.fillna(0).replace({\n",
    "    r'\\.': ',',\n",
    "    '%': ''\n",
    "}, regex=True)"
   ]
  },
  {
   "cell_type": "code",
   "execution_count": 10,
   "metadata": {},
   "outputs": [],
   "source": [
    "pbi_vola = pbi_data[pbi_data['Data'].str.contains('Volatility', regex=True)].replace({\n",
    "    '-': '0',\n",
    "    '%': '',\n",
    "    'p,a,': ''\n",
    "}, regex=True)"
   ]
  },
  {
   "cell_type": "code",
   "execution_count": 11,
   "metadata": {},
   "outputs": [],
   "source": [
    "pbi_data = pbi_data[pbi_data['Data'].str.contains('Total expense', regex=True)].replace({\n",
    "    '-': '0',\n",
    "    '%': '',\n",
    "    'p,a,': ''\n",
    "}, regex=True)"
   ]
  },
  {
   "cell_type": "code",
   "execution_count": 12,
   "metadata": {},
   "outputs": [],
   "source": [
    "with pd.ExcelWriter('ScrapedData.xlsx', engine='xlsxwriter') as writer:\n",
    "    df_realTimePrice.to_excel(writer, sheet_name='RealPrice')\n",
    "    pbi_holdings.to_excel(writer, sheet_name='Holdings')\n",
    "    pbi_countries.to_excel(writer, sheet_name='Countries')\n",
    "    pbi_sectors.to_excel(writer, sheet_name='Sectors')\n",
    "    pbi_data.to_excel(writer, sheet_name='Info')\n",
    "    pbi_vola.to_excel(writer, sheet_name='Volatility')\n",
    "\n",
    "del writer"
   ]
  }
 ],
 "metadata": {
  "kernelspec": {
   "display_name": "Python 3",
   "language": "python",
   "name": "python3"
  },
  "language_info": {
   "codemirror_mode": {
    "name": "ipython",
    "version": 3
   },
   "file_extension": ".py",
   "mimetype": "text/x-python",
   "name": "python",
   "nbconvert_exporter": "python",
   "pygments_lexer": "ipython3",
   "version": "3.12.1"
  }
 },
 "nbformat": 4,
 "nbformat_minor": 2
}
